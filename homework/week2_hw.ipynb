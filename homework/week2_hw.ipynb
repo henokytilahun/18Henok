{
 "cells": [
  {
   "cell_type": "markdown",
   "metadata": {},
   "source": [
    "### Homework 1 Problem 1:\n",
    "Find a dataset from the LC State Library website provided on Slack and download it into your **homework** folder. Do the following:\n",
    "\n",
    "- Read the dataset in as a numpy array using the appropriate function and make sure it has read in properly.\n",
    "- Describe in words what the dataset represents. Develop three questions you would like to answer about the data.\n",
    "- Use at least three **new** statistical/numerical functions from **numpy** (go beyond average, std, and ptp) to answer the questions from (2). Be sure to explain your answer in words as well as numbers\n"
   ]
  },
  {
   "cell_type": "code",
   "execution_count": 1,
   "metadata": {},
   "outputs": [],
   "source": [
    "import numpy as np"
   ]
  },
  {
   "cell_type": "code",
   "execution_count": 13,
   "metadata": {},
   "outputs": [
    {
     "name": "stdout",
     "output_type": "stream",
     "text": [
      "[           nan 2.50050000e+03            nan            nan\n",
      " 2.50050000e+03            nan 2.00365754e+04 2.50050000e+03\n",
      " 2.08969800e+02            nan            nan            nan\n",
      "            nan            nan            nan 5.16439892e+02\n",
      " 4.30581824e+07            nan 2.74440000e+00]\n"
     ]
    }
   ],
   "source": [
    "#read dataset as np array\n",
    "headers = np.genfromtxt('data.csv', delimiter=',', dtype='str')[0, :]\n",
    "data = np.genfromtxt('data.csv', delimiter=',', skip_header=1)\n",
    "\n",
    "#convert to array\n",
    "data = np.array(data)\n",
    "\n",
    "#calculate mean\n",
    "mean = np.mean(data, axis=0)\n",
    "\n",
    "\n",
    "\n",
    "\n",
    "\n",
    "\n"
   ]
  },
  {
   "cell_type": "markdown",
   "metadata": {},
   "source": []
  },
  {
   "cell_type": "markdown",
   "metadata": {},
   "source": [
    "### Homework 1 Problem 2:\n",
    "\n",
    "You have been provided the `consumer_price_index.csv` dataset. Please create the following:\n",
    "1. A plot of the CPI of the average price of goods (meat, fuel, grain, metal, plant extract) over time. Compile into a single plot.\n",
    "2. A composite plot of four sub-plots, one for each of the groups minus one. You can choose which group to drop. For example, the first plot would show the CPI for beef, lamb, and pork.\n",
    "Your plots should look professional using the tools used from class. You may need to use tools not explicitly covered in class, which you can find in the matplotlib API. They should incorporate:\n",
    "    * Sizing, spacing, and scaling appropriate for the plot.\n",
    "    * Non-default color schemes. Be creative.\n",
    "    * Legends\n",
    "\n",
    "Here is some code for importing the data so it doesn't error out:\n",
    "headers = np.genfromtxt('consumer_price_index.csv', delimiter=',', dtype='str')[0, :]\n",
    "data = np.genfromtxt('consumer_price_index.csv', delimiter=',', skip_header=1)"
   ]
  },
  {
   "cell_type": "code",
   "execution_count": null,
   "metadata": {},
   "outputs": [],
   "source": []
  },
  {
   "cell_type": "markdown",
   "metadata": {},
   "source": [
    "### Problem 3 Reflection \n",
    "\n",
    "On every homework assignment. This should be at least 5 sentences and demonstrate engagement with the material that goes beyond \"this was hard\" or \"this was cool.\" Things you may include are:\n",
    "\n",
    "- What was most challenging and why\n",
    "- How you approached a problem\n",
    "- What you learned outside of class on your own\n",
    "- How material complements what you are learning in other classes\n",
    "- Feel free to take it any direction you want, but it needs to meet the above criteria to get full credit\n"
   ]
  },
  {
   "cell_type": "markdown",
   "metadata": {},
   "source": []
  }
 ],
 "metadata": {
  "kernelspec": {
   "display_name": "base",
   "language": "python",
   "name": "python3"
  },
  "language_info": {
   "codemirror_mode": {
    "name": "ipython",
    "version": 3
   },
   "file_extension": ".py",
   "mimetype": "text/x-python",
   "name": "python",
   "nbconvert_exporter": "python",
   "pygments_lexer": "ipython3",
   "version": "3.11.5"
  }
 },
 "nbformat": 4,
 "nbformat_minor": 2
}
