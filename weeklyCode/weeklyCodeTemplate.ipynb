{
 "cells": [
  {
   "cell_type": "markdown",
   "id": "91677948-31e8-4476-88e0-0dce4b4e7ae5",
   "metadata": {},
   "source": [
    "# Instructions\n",
    "\n",
    "We will develop code from scratch together in class. However, code isn't helpful to you later if you don't carefully annotate it. Have you ever tried to figure out what you-six-months-ago was trying to do on a coding project with good comments? It's a nightmare! Each day after lecture, you should take the time to fill in the notebook with your own explanations. You won't get full credit with one-line comments here and there from class; in the end you want to submit a document that would be readable to someone who hadn't attended lecture, similar in style to a tutorial. It will be helpful to use Markdown to guide the reader through the project, including headers, equations, bullet points, etc. This should be in your own words.\n",
    "\n",
    "Your grade will be determined on the following scale:\n",
    "\n",
    "- [ ] 5: Complete code and full annotations *in Markdown*\n",
    "- [ ] 4: Complete code and incomplete annotations\n",
    "- [ ] 3: Complete code and no annotations\n",
    "- [ ] 2: Incomplete code\n",
    "- [ ] 1: Started code\n",
    "- [ ] 0: Nothing submitted\n",
    "\n",
    "Also be sure to complete the AI Acknowledgement Statement at the end to get full credit."
   ]
  },
  {
   "cell_type": "markdown",
   "id": "487a6dc1-e4db-4393-8e28-fe7adf95ad0d",
   "metadata": {},
   "source": [
    "# Helpful Tools\n",
    "\n",
    "This section includes some helpful tools for making Markdown documents. You can create lists using asterisks:\n",
    "\n",
    "* This is my first point.\n",
    "* This is my second point.\n",
    "* This is my third point.\n",
    "\n",
    "Or numbers:\n",
    "\n",
    "1. One\n",
    "2. Two\n",
    "3. Three\n",
    "\n",
    "You can emphasize text using *italics*, and **bold**. You can also use symbols using Latex, such as $x^2$ by using dollar signs. A guide to Latex can be found [here](https://www.overleaf.com/learn) (note how you can also add hyperlinks to documents!). You can make equations, matrices, integrals, etc. all with Latex. Here is another example:\n",
    "\n",
    "$$\\int_{0}^{\\infty}{x^2 + 1 dx} $$"
   ]
  },
  {
   "cell_type": "markdown",
   "id": "5f79637b-8df5-4393-96f2-3ba627b0a3cd",
   "metadata": {},
   "source": [
    "# AI Acknowledgement\n",
    "\n",
    "- [ ] By checking this box and signing my name below, I acknowledge that no portion of this assignment was generated with ChatGPT or other AI/LLM services.\n",
    "\n",
    "- **Signature**: "
   ]
  },
  {
   "cell_type": "code",
   "execution_count": null,
   "id": "e17b85cc-840a-4f06-b5cf-48c79472c824",
   "metadata": {},
   "outputs": [],
   "source": []
  }
 ],
 "metadata": {
  "kernelspec": {
   "display_name": "Python 3 (ipykernel)",
   "language": "python",
   "name": "python3"
  },
  "language_info": {
   "codemirror_mode": {
    "name": "ipython",
    "version": 3
   },
   "file_extension": ".py",
   "mimetype": "text/x-python",
   "name": "python",
   "nbconvert_exporter": "python",
   "pygments_lexer": "ipython3",
   "version": "3.12.3"
  }
 },
 "nbformat": 4,
 "nbformat_minor": 5
}
