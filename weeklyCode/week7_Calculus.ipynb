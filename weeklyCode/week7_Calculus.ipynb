{
 "cells": [
  {
   "cell_type": "code",
   "execution_count": 1,
   "id": "5230a6ab",
   "metadata": {},
   "outputs": [],
   "source": [
    "import numpy as np\n",
    "import matplotlib.pyplot as plt"
   ]
  },
  {
   "cell_type": "code",
   "execution_count": 2,
   "id": "63c9d386",
   "metadata": {},
   "outputs": [],
   "source": [
    "# creating data points\n",
    "dx = 0.000001\n",
    "x = np.arange(0, 10, dx) #fills array 0-10 with 0.000001 increments\n",
    "y = x**2 #y = x^2\n",
    "\n",
    "yint = np.cumsum(y*dx) #calculating the cummalitive sum of y*dx"
   ]
  },
  {
   "cell_type": "code",
   "execution_count": 3,
   "id": "83198983",
   "metadata": {},
   "outputs": [
    {
     "data": {
      "text/plain": [
       "[<matplotlib.lines.Line2D at 0x251b6518e20>]"
      ]
     },
     "execution_count": 3,
     "metadata": {},
     "output_type": "execute_result"
    },
    {
     "data": {
      "image/png": "[encoded data removed]",
      "text/plain": [
       "<Figure size 432x288 with 1 Axes>"
      ]
     },
     "metadata": {
      "needs_background": "light"
     },
     "output_type": "display_data"
    }
   ],
   "source": [
    "plt.plot(x, yint) #plotting the graph"
   ]
  },
  {
   "cell_type": "code",
   "execution_count": 4,
   "id": "c94ff927",
   "metadata": {},
   "outputs": [
    {
     "data": {
      "text/plain": [
       "333.34999999999997"
      ]
     },
     "execution_count": 4,
     "metadata": {},
     "output_type": "execute_result"
    }
   ],
   "source": [
    "dx = 0.1 #changing increment\n",
    "x = np.arange(0, 10.1, dx)\n",
    "y = x**2\n",
    "\n",
    "np.trapz(y, x) #are under the curve"
   ]
  },
  {
   "cell_type": "code",
   "execution_count": 6,
   "id": "0a095a7b",
   "metadata": {},
   "outputs": [],
   "source": [
    "from scipy.integrate import quad "
   ]
  },
  {
   "cell_type": "code",
   "execution_count": 7,
   "id": "8e1dc846",
   "metadata": {},
   "outputs": [
    {
     "data": {
      "text/plain": [
       "(333.33333333333326, 3.700743415417188e-12)"
      ]
     },
     "execution_count": 7,
     "metadata": {},
     "output_type": "execute_result"
    }
   ],
   "source": [
    "\n",
    "def myFunc(x):#integrats\n",
    "    return x**2\n",
    "\n",
    "quad(myFunc, 0, 10)#integrating from 0 to 10"
   ]
  },
  {
   "cell_type": "code",
   "execution_count": 11,
   "id": "df7153d2",
   "metadata": {},
   "outputs": [],
   "source": [
    "x1, x2 = 1, 1.00000001\n",
    "y1, y2 = np.sin(x1), np.sin(x2)\n",
    "\n",
    "dydx = (y2 - y1)/(x2 - x1)"
   ]
  },
  {
   "cell_type": "code",
   "execution_count": 12,
   "id": "2f6416ab",
   "metadata": {},
   "outputs": [
    {
     "data": {
      "text/plain": [
       "0.5403023061819261"
      ]
     },
     "execution_count": 12,
     "metadata": {},
     "output_type": "execute_result"
    }
   ],
   "source": [
    "dydx"
   ]
  },
  {
   "cell_type": "code",
   "execution_count": 10,
   "id": "f931ccfa",
   "metadata": {},
   "outputs": [
    {
     "data": {
      "text/plain": [
       "0.5403023058681398"
      ]
     },
     "execution_count": 10,
     "metadata": {},
     "output_type": "execute_result"
    }
   ],
   "source": [
    "np.cos(1)"
   ]
  },
  {
   "cell_type": "code",
   "execution_count": 14,
   "id": "e8cb867c",
   "metadata": {},
   "outputs": [],
   "source": [
    "dx = 0.01\n",
    "x = np.arange(0, 10, dx)\n",
    "y = np.sin(x)\n",
    "\n",
    "dydx = np.diff(y)/dx"
   ]
  },
  {
   "cell_type": "code",
   "execution_count": 15,
   "id": "45748878",
   "metadata": {},
   "outputs": [
    {
     "data": {
      "text/plain": [
       "[<matplotlib.lines.Line2D at 0x251b1bed220>]"
      ]
     },
     "execution_count": 15,
     "metadata": {},
     "output_type": "execute_result"
    },
    {
     "data": {
      "image/png": "[encoded data removed]",
      "text/plain": [
       "<Figure size 432x288 with 1 Axes>"
      ]
     },
     "metadata": {
      "needs_background": "light"
     },
     "output_type": "display_data"
    }
   ],
   "source": [
    "plt.plot(x[1:], dydx)\n",
    "plt.plot(x[1:], np.cos(x[1:]))"
   ]
  },
  {
   "cell_type": "code",
   "execution_count": 16,
   "id": "35ec9fb8",
   "metadata": {},
   "outputs": [],
   "source": [
    "from scipy.misc import derivative"
   ]
  },
  {
   "cell_type": "code",
   "execution_count": 24,
   "id": "6290a0e3",
   "metadata": {},
   "outputs": [
    {
     "data": {
      "text/plain": [
       "0.5403021315925691"
      ]
     },
     "execution_count": 24,
     "metadata": {},
     "output_type": "execute_result"
    }
   ],
   "source": [
    "derivative(np.sin, 1, dx=0.5, order=11)"
   ]
  },
  {
   "cell_type": "code",
   "execution_count": null,
   "id": "bf6ea025",
   "metadata": {},
   "outputs": [],
   "source": []
  }
 ],
 "metadata": {
  "kernelspec": {
   "display_name": "Python 3",
   "language": "python",
   "name": "python3"
  },
  "language_info": {
   "codemirror_mode": {
    "name": "ipython",
    "version": 3
   },
   "file_extension": ".py",
   "mimetype": "text/x-python",
   "name": "python",
   "nbconvert_exporter": "python",
   "pygments_lexer": "ipython3",
   "version": "3.8.8"
  }
 },
 "nbformat": 4,
 "nbformat_minor": 5
}
