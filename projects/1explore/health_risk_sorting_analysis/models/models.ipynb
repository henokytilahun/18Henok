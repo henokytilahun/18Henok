{
 "cells": [
  {
   "cell_type": "markdown",
   "metadata": {
    "slideshow": {
     "slide_type": "slide"
    }
   },
   "source": [
    "### Purpose\n",
    "\n",
    "Practice using the different Sorting Algorithms\n",
    "\n",
    "- Bubble Sort\n",
    "- Selection Sort\n",
    "- Quick Sort"
   ]
  },
  {
   "cell_type": "markdown",
   "metadata": {
    "slideshow": {
     "slide_type": "slide"
    }
   },
   "source": [
    "### Bubble Sort"
   ]
  },
  {
   "cell_type": "code",
   "execution_count": 1,
   "metadata": {
    "slideshow": {
     "slide_type": "skip"
    }
   },
   "outputs": [],
   "source": [
    "#import\n",
    "import numpy as np\n",
    "import matplotlib.pyplot as plt\n",
    "import ipywidgets as widgets\n"
   ]
  },
  {
   "cell_type": "code",
   "execution_count": 2,
   "metadata": {
    "slideshow": {
     "slide_type": "notes"
    }
   },
   "outputs": [],
   "source": [
    "#Create a array of numbers from 0 to 10\n",
    "risk_scores = list(np.random.randint(1, 100, 15))\n",
    "\n"
   ]
  },
  {
   "cell_type": "code",
   "execution_count": 3,
   "metadata": {
    "slideshow": {
     "slide_type": "slide"
    }
   },
   "outputs": [
    {
     "data": {
      "text/plain": [
       "[29, 98, 89, 89, 14, 88, 13, 2, 62, 94, 23, 46, 34, 32, 90]"
      ]
     },
     "execution_count": 3,
     "metadata": {},
     "output_type": "execute_result"
    }
   ],
   "source": [
    "risk_scores #check values"
   ]
  },
  {
   "cell_type": "code",
   "execution_count": 16,
   "metadata": {
    "slideshow": {
     "slide_type": "skip"
    }
   },
   "outputs": [],
   "source": [
    "def bubble_sort(arr):\n",
    "    arr = arr.copy()\n",
    "    steps = [arr.copy()]\n",
    "    n = len(arr)\n",
    "    for i in range(n):\n",
    "        for j in range(n - i - 1):\n",
    "            if arr[j] > arr[j+1]:\n",
    "                arr[j], arr[j+1] = arr[j+1], arr[j]\n",
    "                steps.append(arr.copy())\n",
    "    return steps\n",
    "steps = bubble_sort(risk_scores)"
   ]
  },
  {
   "cell_type": "code",
   "execution_count": 5,
   "metadata": {
    "slideshow": {
     "slide_type": "skip"
    }
   },
   "outputs": [
    {
     "data": {
      "text/plain": [
       "[[29, 98, 89, 89, 14, 88, 13, 2, 62, 94, 23, 46, 34, 32, 90],\n",
       " [29, 89, 98, 89, 14, 88, 13, 2, 62, 94, 23, 46, 34, 32, 90],\n",
       " [29, 89, 89, 98, 14, 88, 13, 2, 62, 94, 23, 46, 34, 32, 90],\n",
       " [29, 89, 89, 14, 98, 88, 13, 2, 62, 94, 23, 46, 34, 32, 90],\n",
       " [29, 89, 89, 14, 88, 98, 13, 2, 62, 94, 23, 46, 34, 32, 90],\n",
       " [29, 89, 89, 14, 88, 13, 98, 2, 62, 94, 23, 46, 34, 32, 90],\n",
       " [29, 89, 89, 14, 88, 13, 2, 98, 62, 94, 23, 46, 34, 32, 90],\n",
       " [29, 89, 89, 14, 88, 13, 2, 62, 98, 94, 23, 46, 34, 32, 90],\n",
       " [29, 89, 89, 14, 88, 13, 2, 62, 94, 98, 23, 46, 34, 32, 90],\n",
       " [29, 89, 89, 14, 88, 13, 2, 62, 94, 23, 98, 46, 34, 32, 90],\n",
       " [29, 89, 89, 14, 88, 13, 2, 62, 94, 23, 46, 98, 34, 32, 90],\n",
       " [29, 89, 89, 14, 88, 13, 2, 62, 94, 23, 46, 34, 98, 32, 90],\n",
       " [29, 89, 89, 14, 88, 13, 2, 62, 94, 23, 46, 34, 32, 98, 90],\n",
       " [29, 89, 89, 14, 88, 13, 2, 62, 94, 23, 46, 34, 32, 90, 98],\n",
       " [29, 89, 14, 89, 88, 13, 2, 62, 94, 23, 46, 34, 32, 90, 98],\n",
       " [29, 89, 14, 88, 89, 13, 2, 62, 94, 23, 46, 34, 32, 90, 98],\n",
       " [29, 89, 14, 88, 13, 89, 2, 62, 94, 23, 46, 34, 32, 90, 98],\n",
       " [29, 89, 14, 88, 13, 2, 89, 62, 94, 23, 46, 34, 32, 90, 98],\n",
       " [29, 89, 14, 88, 13, 2, 62, 89, 94, 23, 46, 34, 32, 90, 98],\n",
       " [29, 89, 14, 88, 13, 2, 62, 89, 23, 94, 46, 34, 32, 90, 98],\n",
       " [29, 89, 14, 88, 13, 2, 62, 89, 23, 46, 94, 34, 32, 90, 98],\n",
       " [29, 89, 14, 88, 13, 2, 62, 89, 23, 46, 34, 94, 32, 90, 98],\n",
       " [29, 89, 14, 88, 13, 2, 62, 89, 23, 46, 34, 32, 94, 90, 98],\n",
       " [29, 89, 14, 88, 13, 2, 62, 89, 23, 46, 34, 32, 90, 94, 98],\n",
       " [29, 14, 89, 88, 13, 2, 62, 89, 23, 46, 34, 32, 90, 94, 98],\n",
       " [29, 14, 88, 89, 13, 2, 62, 89, 23, 46, 34, 32, 90, 94, 98],\n",
       " [29, 14, 88, 13, 89, 2, 62, 89, 23, 46, 34, 32, 90, 94, 98],\n",
       " [29, 14, 88, 13, 2, 89, 62, 89, 23, 46, 34, 32, 90, 94, 98],\n",
       " [29, 14, 88, 13, 2, 62, 89, 89, 23, 46, 34, 32, 90, 94, 98],\n",
       " [29, 14, 88, 13, 2, 62, 89, 23, 89, 46, 34, 32, 90, 94, 98],\n",
       " [29, 14, 88, 13, 2, 62, 89, 23, 46, 89, 34, 32, 90, 94, 98],\n",
       " [29, 14, 88, 13, 2, 62, 89, 23, 46, 34, 89, 32, 90, 94, 98],\n",
       " [29, 14, 88, 13, 2, 62, 89, 23, 46, 34, 32, 89, 90, 94, 98],\n",
       " [14, 29, 88, 13, 2, 62, 89, 23, 46, 34, 32, 89, 90, 94, 98],\n",
       " [14, 29, 13, 88, 2, 62, 89, 23, 46, 34, 32, 89, 90, 94, 98],\n",
       " [14, 29, 13, 2, 88, 62, 89, 23, 46, 34, 32, 89, 90, 94, 98],\n",
       " [14, 29, 13, 2, 62, 88, 89, 23, 46, 34, 32, 89, 90, 94, 98],\n",
       " [14, 29, 13, 2, 62, 88, 23, 89, 46, 34, 32, 89, 90, 94, 98],\n",
       " [14, 29, 13, 2, 62, 88, 23, 46, 89, 34, 32, 89, 90, 94, 98],\n",
       " [14, 29, 13, 2, 62, 88, 23, 46, 34, 89, 32, 89, 90, 94, 98],\n",
       " [14, 29, 13, 2, 62, 88, 23, 46, 34, 32, 89, 89, 90, 94, 98],\n",
       " [14, 13, 29, 2, 62, 88, 23, 46, 34, 32, 89, 89, 90, 94, 98],\n",
       " [14, 13, 2, 29, 62, 88, 23, 46, 34, 32, 89, 89, 90, 94, 98],\n",
       " [14, 13, 2, 29, 62, 23, 88, 46, 34, 32, 89, 89, 90, 94, 98],\n",
       " [14, 13, 2, 29, 62, 23, 46, 88, 34, 32, 89, 89, 90, 94, 98],\n",
       " [14, 13, 2, 29, 62, 23, 46, 34, 88, 32, 89, 89, 90, 94, 98],\n",
       " [14, 13, 2, 29, 62, 23, 46, 34, 32, 88, 89, 89, 90, 94, 98],\n",
       " [13, 14, 2, 29, 62, 23, 46, 34, 32, 88, 89, 89, 90, 94, 98],\n",
       " [13, 2, 14, 29, 62, 23, 46, 34, 32, 88, 89, 89, 90, 94, 98],\n",
       " [13, 2, 14, 29, 23, 62, 46, 34, 32, 88, 89, 89, 90, 94, 98],\n",
       " [13, 2, 14, 29, 23, 46, 62, 34, 32, 88, 89, 89, 90, 94, 98],\n",
       " [13, 2, 14, 29, 23, 46, 34, 62, 32, 88, 89, 89, 90, 94, 98],\n",
       " [13, 2, 14, 29, 23, 46, 34, 32, 62, 88, 89, 89, 90, 94, 98],\n",
       " [2, 13, 14, 29, 23, 46, 34, 32, 62, 88, 89, 89, 90, 94, 98],\n",
       " [2, 13, 14, 23, 29, 46, 34, 32, 62, 88, 89, 89, 90, 94, 98],\n",
       " [2, 13, 14, 23, 29, 34, 46, 32, 62, 88, 89, 89, 90, 94, 98],\n",
       " [2, 13, 14, 23, 29, 34, 32, 46, 62, 88, 89, 89, 90, 94, 98],\n",
       " [2, 13, 14, 23, 29, 32, 34, 46, 62, 88, 89, 89, 90, 94, 98]]"
      ]
     },
     "execution_count": 5,
     "metadata": {},
     "output_type": "execute_result"
    }
   ],
   "source": [
    "steps #check if sorted"
   ]
  },
  {
   "cell_type": "code",
   "execution_count": 17,
   "metadata": {
    "slideshow": {
     "slide_type": "fragment"
    }
   },
   "outputs": [
    {
     "data": {
      "application/vnd.jupyter.widget-view+json": {
       "model_id": "cf6389304fc4454d84e7630d336698b5",
       "version_major": 2,
       "version_minor": 0
      },
      "text/plain": [
       "interactive(children=(IntSlider(value=0, description='step', max=57), Output()), _dom_classes=('widget-interac…"
      ]
     },
     "metadata": {},
     "output_type": "display_data"
    },
    {
     "data": {
      "text/plain": [
       "<function __main__.plot_sort_step(step)>"
      ]
     },
     "execution_count": 17,
     "metadata": {},
     "output_type": "execute_result"
    }
   ],
   "source": [
    "def plot_sort_step(step):\n",
    "    plt.figure(figsize=(8,4))\n",
    "    plt.bar(range(len(steps[step])), steps[step], color='orange')\n",
    "    plt.title(f\"Bubble Sort Step {step+1} of {len(steps)}\")\n",
    "    plt.xlabel(\"Patient Index\")\n",
    "    plt.ylabel(\"Risk Score\")\n",
    "    plt.ylim(0, max(risk_scores)+10)\n",
    "    plt.grid(True)\n",
    "    plt.show()\n",
    "\n",
    "widgets.interact(plot_sort_step, step=widgets.IntSlider(min=0, max=len(steps)-1, step=1, value=0))"
   ]
  },
  {
   "cell_type": "markdown",
   "metadata": {
    "slideshow": {
     "slide_type": "slide"
    }
   },
   "source": [
    "### Insertion Sort"
   ]
  },
  {
   "cell_type": "code",
   "execution_count": 7,
   "metadata": {
    "slideshow": {
     "slide_type": "notes"
    }
   },
   "outputs": [
    {
     "data": {
      "text/plain": [
       "[29, 98, 89, 89, 14, 88, 13, 2, 62, 94, 23, 46, 34, 32, 90]"
      ]
     },
     "execution_count": 7,
     "metadata": {},
     "output_type": "execute_result"
    }
   ],
   "source": [
    "#check risk_scores\n",
    "risk_scores"
   ]
  },
  {
   "cell_type": "code",
   "execution_count": 8,
   "metadata": {
    "slideshow": {
     "slide_type": "skip"
    }
   },
   "outputs": [],
   "source": [
    "def insertion_sort_steps(arr):\n",
    "    arr = arr.copy()\n",
    "    steps = [arr.copy()]\n",
    "    n = len(arr)\n",
    "    for i in range(1, n):\n",
    "        key = arr[i]\n",
    "        j = i - 1\n",
    "        # Shift elements that are greater than key one position ahead\n",
    "        while j >= 0 and arr[j] > key:\n",
    "            arr[j + 1] = arr[j]\n",
    "            j -= 1\n",
    "            steps.append(arr.copy())\n",
    "        arr[j + 1] = key\n",
    "        steps.append(arr.copy())\n",
    "    return steps\n",
    "steps = insertion_sort_steps(risk_scores)"
   ]
  },
  {
   "cell_type": "code",
   "execution_count": 9,
   "metadata": {
    "slideshow": {
     "slide_type": "skip"
    }
   },
   "outputs": [
    {
     "data": {
      "text/plain": [
       "[[29, 98, 89, 89, 14, 88, 13, 2, 62, 94, 23, 46, 34, 32, 90],\n",
       " [29, 98, 89, 89, 14, 88, 13, 2, 62, 94, 23, 46, 34, 32, 90],\n",
       " [29, 98, 98, 89, 14, 88, 13, 2, 62, 94, 23, 46, 34, 32, 90],\n",
       " [29, 89, 98, 89, 14, 88, 13, 2, 62, 94, 23, 46, 34, 32, 90],\n",
       " [29, 89, 98, 98, 14, 88, 13, 2, 62, 94, 23, 46, 34, 32, 90],\n",
       " [29, 89, 89, 98, 14, 88, 13, 2, 62, 94, 23, 46, 34, 32, 90],\n",
       " [29, 89, 89, 98, 98, 88, 13, 2, 62, 94, 23, 46, 34, 32, 90],\n",
       " [29, 89, 89, 89, 98, 88, 13, 2, 62, 94, 23, 46, 34, 32, 90],\n",
       " [29, 89, 89, 89, 98, 88, 13, 2, 62, 94, 23, 46, 34, 32, 90],\n",
       " [29, 29, 89, 89, 98, 88, 13, 2, 62, 94, 23, 46, 34, 32, 90],\n",
       " [14, 29, 89, 89, 98, 88, 13, 2, 62, 94, 23, 46, 34, 32, 90],\n",
       " [14, 29, 89, 89, 98, 98, 13, 2, 62, 94, 23, 46, 34, 32, 90],\n",
       " [14, 29, 89, 89, 89, 98, 13, 2, 62, 94, 23, 46, 34, 32, 90],\n",
       " [14, 29, 89, 89, 89, 98, 13, 2, 62, 94, 23, 46, 34, 32, 90],\n",
       " [14, 29, 88, 89, 89, 98, 13, 2, 62, 94, 23, 46, 34, 32, 90],\n",
       " [14, 29, 88, 89, 89, 98, 98, 2, 62, 94, 23, 46, 34, 32, 90],\n",
       " [14, 29, 88, 89, 89, 89, 98, 2, 62, 94, 23, 46, 34, 32, 90],\n",
       " [14, 29, 88, 89, 89, 89, 98, 2, 62, 94, 23, 46, 34, 32, 90],\n",
       " [14, 29, 88, 88, 89, 89, 98, 2, 62, 94, 23, 46, 34, 32, 90],\n",
       " [14, 29, 29, 88, 89, 89, 98, 2, 62, 94, 23, 46, 34, 32, 90],\n",
       " [14, 14, 29, 88, 89, 89, 98, 2, 62, 94, 23, 46, 34, 32, 90],\n",
       " [13, 14, 29, 88, 89, 89, 98, 2, 62, 94, 23, 46, 34, 32, 90],\n",
       " [13, 14, 29, 88, 89, 89, 98, 98, 62, 94, 23, 46, 34, 32, 90],\n",
       " [13, 14, 29, 88, 89, 89, 89, 98, 62, 94, 23, 46, 34, 32, 90],\n",
       " [13, 14, 29, 88, 89, 89, 89, 98, 62, 94, 23, 46, 34, 32, 90],\n",
       " [13, 14, 29, 88, 88, 89, 89, 98, 62, 94, 23, 46, 34, 32, 90],\n",
       " [13, 14, 29, 29, 88, 89, 89, 98, 62, 94, 23, 46, 34, 32, 90],\n",
       " [13, 14, 14, 29, 88, 89, 89, 98, 62, 94, 23, 46, 34, 32, 90],\n",
       " [13, 13, 14, 29, 88, 89, 89, 98, 62, 94, 23, 46, 34, 32, 90],\n",
       " [2, 13, 14, 29, 88, 89, 89, 98, 62, 94, 23, 46, 34, 32, 90],\n",
       " [2, 13, 14, 29, 88, 89, 89, 98, 98, 94, 23, 46, 34, 32, 90],\n",
       " [2, 13, 14, 29, 88, 89, 89, 89, 98, 94, 23, 46, 34, 32, 90],\n",
       " [2, 13, 14, 29, 88, 89, 89, 89, 98, 94, 23, 46, 34, 32, 90],\n",
       " [2, 13, 14, 29, 88, 88, 89, 89, 98, 94, 23, 46, 34, 32, 90],\n",
       " [2, 13, 14, 29, 62, 88, 89, 89, 98, 94, 23, 46, 34, 32, 90],\n",
       " [2, 13, 14, 29, 62, 88, 89, 89, 98, 98, 23, 46, 34, 32, 90],\n",
       " [2, 13, 14, 29, 62, 88, 89, 89, 94, 98, 23, 46, 34, 32, 90],\n",
       " [2, 13, 14, 29, 62, 88, 89, 89, 94, 98, 98, 46, 34, 32, 90],\n",
       " [2, 13, 14, 29, 62, 88, 89, 89, 94, 94, 98, 46, 34, 32, 90],\n",
       " [2, 13, 14, 29, 62, 88, 89, 89, 89, 94, 98, 46, 34, 32, 90],\n",
       " [2, 13, 14, 29, 62, 88, 89, 89, 89, 94, 98, 46, 34, 32, 90],\n",
       " [2, 13, 14, 29, 62, 88, 88, 89, 89, 94, 98, 46, 34, 32, 90],\n",
       " [2, 13, 14, 29, 62, 62, 88, 89, 89, 94, 98, 46, 34, 32, 90],\n",
       " [2, 13, 14, 29, 29, 62, 88, 89, 89, 94, 98, 46, 34, 32, 90],\n",
       " [2, 13, 14, 23, 29, 62, 88, 89, 89, 94, 98, 46, 34, 32, 90],\n",
       " [2, 13, 14, 23, 29, 62, 88, 89, 89, 94, 98, 98, 34, 32, 90],\n",
       " [2, 13, 14, 23, 29, 62, 88, 89, 89, 94, 94, 98, 34, 32, 90],\n",
       " [2, 13, 14, 23, 29, 62, 88, 89, 89, 89, 94, 98, 34, 32, 90],\n",
       " [2, 13, 14, 23, 29, 62, 88, 89, 89, 89, 94, 98, 34, 32, 90],\n",
       " [2, 13, 14, 23, 29, 62, 88, 88, 89, 89, 94, 98, 34, 32, 90],\n",
       " [2, 13, 14, 23, 29, 62, 62, 88, 89, 89, 94, 98, 34, 32, 90],\n",
       " [2, 13, 14, 23, 29, 46, 62, 88, 89, 89, 94, 98, 34, 32, 90],\n",
       " [2, 13, 14, 23, 29, 46, 62, 88, 89, 89, 94, 98, 98, 32, 90],\n",
       " [2, 13, 14, 23, 29, 46, 62, 88, 89, 89, 94, 94, 98, 32, 90],\n",
       " [2, 13, 14, 23, 29, 46, 62, 88, 89, 89, 89, 94, 98, 32, 90],\n",
       " [2, 13, 14, 23, 29, 46, 62, 88, 89, 89, 89, 94, 98, 32, 90],\n",
       " [2, 13, 14, 23, 29, 46, 62, 88, 88, 89, 89, 94, 98, 32, 90],\n",
       " [2, 13, 14, 23, 29, 46, 62, 62, 88, 89, 89, 94, 98, 32, 90],\n",
       " [2, 13, 14, 23, 29, 46, 46, 62, 88, 89, 89, 94, 98, 32, 90],\n",
       " [2, 13, 14, 23, 29, 34, 46, 62, 88, 89, 89, 94, 98, 32, 90],\n",
       " [2, 13, 14, 23, 29, 34, 46, 62, 88, 89, 89, 94, 98, 98, 90],\n",
       " [2, 13, 14, 23, 29, 34, 46, 62, 88, 89, 89, 94, 94, 98, 90],\n",
       " [2, 13, 14, 23, 29, 34, 46, 62, 88, 89, 89, 89, 94, 98, 90],\n",
       " [2, 13, 14, 23, 29, 34, 46, 62, 88, 89, 89, 89, 94, 98, 90],\n",
       " [2, 13, 14, 23, 29, 34, 46, 62, 88, 88, 89, 89, 94, 98, 90],\n",
       " [2, 13, 14, 23, 29, 34, 46, 62, 62, 88, 89, 89, 94, 98, 90],\n",
       " [2, 13, 14, 23, 29, 34, 46, 46, 62, 88, 89, 89, 94, 98, 90],\n",
       " [2, 13, 14, 23, 29, 34, 34, 46, 62, 88, 89, 89, 94, 98, 90],\n",
       " [2, 13, 14, 23, 29, 32, 34, 46, 62, 88, 89, 89, 94, 98, 90],\n",
       " [2, 13, 14, 23, 29, 32, 34, 46, 62, 88, 89, 89, 94, 98, 98],\n",
       " [2, 13, 14, 23, 29, 32, 34, 46, 62, 88, 89, 89, 94, 94, 98],\n",
       " [2, 13, 14, 23, 29, 32, 34, 46, 62, 88, 89, 89, 90, 94, 98]]"
      ]
     },
     "execution_count": 9,
     "metadata": {},
     "output_type": "execute_result"
    }
   ],
   "source": [
    "steps #check if sorted"
   ]
  },
  {
   "cell_type": "code",
   "execution_count": 10,
   "metadata": {
    "slideshow": {
     "slide_type": "subslide"
    }
   },
   "outputs": [
    {
     "data": {
      "application/vnd.jupyter.widget-view+json": {
       "model_id": "bddb8a00f9ea4ca4b058c10040b6ef90",
       "version_major": 2,
       "version_minor": 0
      },
      "text/plain": [
       "interactive(children=(IntSlider(value=0, description='step', max=71), Output()), _dom_classes=('widget-interac…"
      ]
     },
     "metadata": {},
     "output_type": "display_data"
    },
    {
     "data": {
      "text/plain": [
       "<function __main__.plot_insertion_sort_step(step)>"
      ]
     },
     "execution_count": 10,
     "metadata": {},
     "output_type": "execute_result"
    },
    {
     "data": {
      "text/plain": [
       "<Figure size 800x400 with 0 Axes>"
      ]
     },
     "metadata": {},
     "output_type": "display_data"
    },
    {
     "data": {
      "text/plain": [
       "<Figure size 800x400 with 0 Axes>"
      ]
     },
     "metadata": {},
     "output_type": "display_data"
    },
    {
     "data": {
      "text/plain": [
       "<Figure size 800x400 with 0 Axes>"
      ]
     },
     "metadata": {},
     "output_type": "display_data"
    },
    {
     "data": {
      "text/plain": [
       "<Figure size 800x400 with 0 Axes>"
      ]
     },
     "metadata": {},
     "output_type": "display_data"
    },
    {
     "data": {
      "text/plain": [
       "<Figure size 800x400 with 0 Axes>"
      ]
     },
     "metadata": {},
     "output_type": "display_data"
    },
    {
     "data": {
      "text/plain": [
       "<Figure size 800x400 with 0 Axes>"
      ]
     },
     "metadata": {},
     "output_type": "display_data"
    },
    {
     "data": {
      "text/plain": [
       "<Figure size 800x400 with 0 Axes>"
      ]
     },
     "metadata": {},
     "output_type": "display_data"
    },
    {
     "data": {
      "text/plain": [
       "<Figure size 800x400 with 0 Axes>"
      ]
     },
     "metadata": {},
     "output_type": "display_data"
    },
    {
     "data": {
      "text/plain": [
       "<Figure size 800x400 with 0 Axes>"
      ]
     },
     "metadata": {},
     "output_type": "display_data"
    },
    {
     "data": {
      "text/plain": [
       "<Figure size 800x400 with 0 Axes>"
      ]
     },
     "metadata": {},
     "output_type": "display_data"
    },
    {
     "data": {
      "text/plain": [
       "<Figure size 800x400 with 0 Axes>"
      ]
     },
     "metadata": {},
     "output_type": "display_data"
    },
    {
     "data": {
      "text/plain": [
       "<Figure size 800x400 with 0 Axes>"
      ]
     },
     "metadata": {},
     "output_type": "display_data"
    },
    {
     "data": {
      "text/plain": [
       "<Figure size 800x400 with 0 Axes>"
      ]
     },
     "metadata": {},
     "output_type": "display_data"
    },
    {
     "data": {
      "text/plain": [
       "<Figure size 800x400 with 0 Axes>"
      ]
     },
     "metadata": {},
     "output_type": "display_data"
    },
    {
     "data": {
      "text/plain": [
       "<Figure size 800x400 with 0 Axes>"
      ]
     },
     "metadata": {},
     "output_type": "display_data"
    },
    {
     "data": {
      "text/plain": [
       "<Figure size 800x400 with 0 Axes>"
      ]
     },
     "metadata": {},
     "output_type": "display_data"
    },
    {
     "data": {
      "text/plain": [
       "<Figure size 800x400 with 0 Axes>"
      ]
     },
     "metadata": {},
     "output_type": "display_data"
    },
    {
     "data": {
      "text/plain": [
       "<Figure size 800x400 with 0 Axes>"
      ]
     },
     "metadata": {},
     "output_type": "display_data"
    },
    {
     "data": {
      "text/plain": [
       "<Figure size 800x400 with 0 Axes>"
      ]
     },
     "metadata": {},
     "output_type": "display_data"
    },
    {
     "data": {
      "text/plain": [
       "<Figure size 800x400 with 0 Axes>"
      ]
     },
     "metadata": {},
     "output_type": "display_data"
    },
    {
     "data": {
      "text/plain": [
       "<Figure size 800x400 with 0 Axes>"
      ]
     },
     "metadata": {},
     "output_type": "display_data"
    },
    {
     "data": {
      "text/plain": [
       "<Figure size 800x400 with 0 Axes>"
      ]
     },
     "metadata": {},
     "output_type": "display_data"
    },
    {
     "data": {
      "text/plain": [
       "<Figure size 800x400 with 0 Axes>"
      ]
     },
     "metadata": {},
     "output_type": "display_data"
    },
    {
     "data": {
      "text/plain": [
       "<Figure size 800x400 with 0 Axes>"
      ]
     },
     "metadata": {},
     "output_type": "display_data"
    },
    {
     "data": {
      "text/plain": [
       "<Figure size 800x400 with 0 Axes>"
      ]
     },
     "metadata": {},
     "output_type": "display_data"
    },
    {
     "data": {
      "text/plain": [
       "<Figure size 800x400 with 0 Axes>"
      ]
     },
     "metadata": {},
     "output_type": "display_data"
    },
    {
     "data": {
      "text/plain": [
       "<Figure size 800x400 with 0 Axes>"
      ]
     },
     "metadata": {},
     "output_type": "display_data"
    },
    {
     "data": {
      "text/plain": [
       "<Figure size 800x400 with 0 Axes>"
      ]
     },
     "metadata": {},
     "output_type": "display_data"
    },
    {
     "data": {
      "text/plain": [
       "<Figure size 800x400 with 0 Axes>"
      ]
     },
     "metadata": {},
     "output_type": "display_data"
    }
   ],
   "source": [
    "def plot_insertion_sort_step(step):\n",
    "    plt.figure(figsize=(8,4))\n",
    "    plt.bar(range(len(steps[step])), steps[step], color='orange')\n",
    "    plt.title(f\"Insertion Sort - Step {step+1} of {len(steps)}\")\n",
    "    plt.xlabel(\"Patient Index\")\n",
    "    plt.ylabel(\"Risk Score\")\n",
    "    plt.ylim(0, max(risk_scores) + 10)\n",
    "    plt.grid(True)\n",
    "    plt.show()\n",
    "\n",
    "widgets.interact(plot_insertion_sort_step, step=widgets.IntSlider(min=0, max=len(steps)-1, step=1, value=0))"
   ]
  },
  {
   "cell_type": "markdown",
   "metadata": {
    "slideshow": {
     "slide_type": "slide"
    }
   },
   "source": [
    "### Quick Sort"
   ]
  },
  {
   "cell_type": "code",
   "execution_count": 11,
   "metadata": {
    "slideshow": {
     "slide_type": "notes"
    }
   },
   "outputs": [
    {
     "data": {
      "text/plain": [
       "[29, 98, 89, 89, 14, 88, 13, 2, 62, 94, 23, 46, 34, 32, 90]"
      ]
     },
     "execution_count": 11,
     "metadata": {},
     "output_type": "execute_result"
    }
   ],
   "source": [
    "#check risk_scores\n",
    "risk_scores"
   ]
  },
  {
   "cell_type": "code",
   "execution_count": 12,
   "metadata": {
    "slideshow": {
     "slide_type": "skip"
    }
   },
   "outputs": [],
   "source": [
    "#Quick Sort\n",
    "def quick_sort_steps(arr):\n",
    "    steps = [arr.copy()]  # record the initial state\n",
    "\n",
    "    def quick_sort(arr, low, high):\n",
    "        if low < high:\n",
    "            pivot_index = partition(arr, low, high)\n",
    "            quick_sort(arr, low, pivot_index - 1)\n",
    "            quick_sort(arr, pivot_index + 1, high)\n",
    "\n",
    "    def partition(arr, low, high):\n",
    "        pivot = arr[high]\n",
    "        i = low - 1\n",
    "        for j in range(low, high):\n",
    "            if arr[j] <= pivot:\n",
    "                i += 1\n",
    "                # Swap arr[i] and arr[j] if needed\n",
    "                arr[i], arr[j] = arr[j], arr[i]\n",
    "                steps.append(arr.copy())\n",
    "        # Swap the pivot into the correct position\n",
    "        arr[i + 1], arr[high] = arr[high], arr[i + 1]\n",
    "        steps.append(arr.copy())\n",
    "        return i + 1\n",
    "\n",
    "    quick_sort(arr, 0, len(arr) - 1)\n",
    "    return steps\n",
    "\n",
    "steps = quick_sort_steps(risk_scores.copy())"
   ]
  },
  {
   "cell_type": "code",
   "execution_count": 13,
   "metadata": {
    "slideshow": {
     "slide_type": "slide"
    }
   },
   "outputs": [
    {
     "data": {
      "text/plain": [
       "[[29, 98, 89, 89, 14, 88, 13, 2, 62, 94, 23, 46, 34, 32, 90],\n",
       " [29, 98, 89, 89, 14, 88, 13, 2, 62, 94, 23, 46, 34, 32, 90],\n",
       " [29, 89, 98, 89, 14, 88, 13, 2, 62, 94, 23, 46, 34, 32, 90],\n",
       " [29, 89, 89, 98, 14, 88, 13, 2, 62, 94, 23, 46, 34, 32, 90],\n",
       " [29, 89, 89, 14, 98, 88, 13, 2, 62, 94, 23, 46, 34, 32, 90],\n",
       " [29, 89, 89, 14, 88, 98, 13, 2, 62, 94, 23, 46, 34, 32, 90],\n",
       " [29, 89, 89, 14, 88, 13, 98, 2, 62, 94, 23, 46, 34, 32, 90],\n",
       " [29, 89, 89, 14, 88, 13, 2, 98, 62, 94, 23, 46, 34, 32, 90],\n",
       " [29, 89, 89, 14, 88, 13, 2, 62, 98, 94, 23, 46, 34, 32, 90],\n",
       " [29, 89, 89, 14, 88, 13, 2, 62, 23, 94, 98, 46, 34, 32, 90],\n",
       " [29, 89, 89, 14, 88, 13, 2, 62, 23, 46, 98, 94, 34, 32, 90],\n",
       " [29, 89, 89, 14, 88, 13, 2, 62, 23, 46, 34, 94, 98, 32, 90],\n",
       " [29, 89, 89, 14, 88, 13, 2, 62, 23, 46, 34, 32, 98, 94, 90],\n",
       " [29, 89, 89, 14, 88, 13, 2, 62, 23, 46, 34, 32, 90, 94, 98],\n",
       " [29, 89, 89, 14, 88, 13, 2, 62, 23, 46, 34, 32, 90, 94, 98],\n",
       " [29, 14, 89, 89, 88, 13, 2, 62, 23, 46, 34, 32, 90, 94, 98],\n",
       " [29, 14, 13, 89, 88, 89, 2, 62, 23, 46, 34, 32, 90, 94, 98],\n",
       " [29, 14, 13, 2, 88, 89, 89, 62, 23, 46, 34, 32, 90, 94, 98],\n",
       " [29, 14, 13, 2, 23, 89, 89, 62, 88, 46, 34, 32, 90, 94, 98],\n",
       " [29, 14, 13, 2, 23, 32, 89, 62, 88, 46, 34, 89, 90, 94, 98],\n",
       " [14, 29, 13, 2, 23, 32, 89, 62, 88, 46, 34, 89, 90, 94, 98],\n",
       " [14, 13, 29, 2, 23, 32, 89, 62, 88, 46, 34, 89, 90, 94, 98],\n",
       " [14, 13, 2, 29, 23, 32, 89, 62, 88, 46, 34, 89, 90, 94, 98],\n",
       " [14, 13, 2, 23, 29, 32, 89, 62, 88, 46, 34, 89, 90, 94, 98],\n",
       " [2, 13, 14, 23, 29, 32, 89, 62, 88, 46, 34, 89, 90, 94, 98],\n",
       " [2, 13, 14, 23, 29, 32, 89, 62, 88, 46, 34, 89, 90, 94, 98],\n",
       " [2, 13, 14, 23, 29, 32, 89, 62, 88, 46, 34, 89, 90, 94, 98],\n",
       " [2, 13, 14, 23, 29, 32, 89, 62, 88, 46, 34, 89, 90, 94, 98],\n",
       " [2, 13, 14, 23, 29, 32, 89, 62, 88, 46, 34, 89, 90, 94, 98],\n",
       " [2, 13, 14, 23, 29, 32, 89, 62, 88, 46, 34, 89, 90, 94, 98],\n",
       " [2, 13, 14, 23, 29, 32, 89, 62, 88, 46, 34, 89, 90, 94, 98],\n",
       " [2, 13, 14, 23, 29, 32, 89, 62, 88, 46, 34, 89, 90, 94, 98],\n",
       " [2, 13, 14, 23, 29, 32, 89, 62, 88, 46, 34, 89, 90, 94, 98],\n",
       " [2, 13, 14, 23, 29, 32, 34, 62, 88, 46, 89, 89, 90, 94, 98],\n",
       " [2, 13, 14, 23, 29, 32, 34, 62, 88, 46, 89, 89, 90, 94, 98],\n",
       " [2, 13, 14, 23, 29, 32, 34, 62, 88, 46, 89, 89, 90, 94, 98],\n",
       " [2, 13, 14, 23, 29, 32, 34, 62, 88, 46, 89, 89, 90, 94, 98],\n",
       " [2, 13, 14, 23, 29, 32, 34, 62, 88, 46, 89, 89, 90, 94, 98],\n",
       " [2, 13, 14, 23, 29, 32, 34, 46, 88, 62, 89, 89, 90, 94, 98],\n",
       " [2, 13, 14, 23, 29, 32, 34, 46, 62, 88, 89, 89, 90, 94, 98],\n",
       " [2, 13, 14, 23, 29, 32, 34, 46, 62, 88, 89, 89, 90, 94, 98],\n",
       " [2, 13, 14, 23, 29, 32, 34, 46, 62, 88, 89, 89, 90, 94, 98]]"
      ]
     },
     "execution_count": 13,
     "metadata": {},
     "output_type": "execute_result"
    }
   ],
   "source": [
    "steps #check if sorted"
   ]
  },
  {
   "cell_type": "code",
   "execution_count": 14,
   "metadata": {
    "slideshow": {
     "slide_type": "subslide"
    }
   },
   "outputs": [
    {
     "data": {
      "application/vnd.jupyter.widget-view+json": {
       "model_id": "f4e446aeae15455da35f9abdadc45713",
       "version_major": 2,
       "version_minor": 0
      },
      "text/plain": [
       "interactive(children=(IntSlider(value=0, description='step', max=41), Output()), _dom_classes=('widget-interac…"
      ]
     },
     "metadata": {},
     "output_type": "display_data"
    },
    {
     "data": {
      "text/plain": [
       "<function __main__.plot_quick_sort_step(step)>"
      ]
     },
     "execution_count": 14,
     "metadata": {},
     "output_type": "execute_result"
    }
   ],
   "source": [
    "def plot_quick_sort_step(step):\n",
    "    plt.figure(figsize=(8,4))\n",
    "    plt.bar(range(len(steps[step])), steps[step], color='skyblue')\n",
    "    plt.title(f\"Quick Sort - Step {step+1} of {len(steps)}\")\n",
    "    plt.xlabel(\"Patient Index\")\n",
    "    plt.ylabel(\"Risk Score\")\n",
    "    plt.ylim(0, max(risk_scores) + 10)\n",
    "    plt.grid(True)\n",
    "    plt.show()\n",
    "\n",
    "widgets.interact(plot_quick_sort_step, step=widgets.IntSlider(min=0, max=len(steps)-1, step=1, value=0))"
   ]
  },
  {
   "cell_type": "code",
   "execution_count": null,
   "metadata": {},
   "outputs": [],
   "source": []
  },
  {
   "cell_type": "code",
   "execution_count": null,
   "metadata": {},
   "outputs": [],
   "source": []
  },
  {
   "cell_type": "code",
   "execution_count": null,
   "metadata": {},
   "outputs": [],
   "source": []
  }
 ],
 "metadata": {
  "kernelspec": {
   "display_name": "Python 3 (ipykernel)",
   "language": "python",
   "name": "python3"
  },
  "language_info": {
   "codemirror_mode": {
    "name": "ipython",
    "version": 3
   },
   "file_extension": ".py",
   "mimetype": "text/x-python",
   "name": "python",
   "nbconvert_exporter": "python",
   "pygments_lexer": "ipython3",
   "version": "3.11.5"
  }
 },
 "nbformat": 4,
 "nbformat_minor": 2
}
