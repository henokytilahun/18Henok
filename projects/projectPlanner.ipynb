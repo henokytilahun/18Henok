{
 "cells": [
  {
   "cell_type": "markdown",
   "id": "34a8545f-d754-4e7e-b726-0811585f8546",
   "metadata": {},
   "source": [
    "# Brainstorm\n",
    "\n",
    "The first item of business is to **identify a problem to solve or a question to answer** using the tools from class e.g. `matplotlib`, `ipywidgets`, `numpy`, `scipy`, `pandas`, and `scikit-learn`. This section is designed to help you come up with a project that is interesting to you and aligns with the current unit. \n",
    "\n",
    "## Top-down\n",
    "\n",
    "You may already have a topic or a dataset in mind that you would like to use for the project. In the top-down approach to project development, you start with an ideal output, then assemble the tools to make it happen. \n",
    "\n",
    "Here are some sources you can use to identify datasets you might use for a project:\n",
    "\n",
    "* Make your own! Believe it or not, there is a lot of data you already collect that you might use for a project. Your internet search history, posts to social media, fitbit data, photos, etc. Many of these tools have ways of exporting the data into a useable format for data analysis.\n",
    "* North Carolina State maintains a [list of cool open source databases](https://www.lib.ncsu.edu/formats/teaching-and-learning-datasets). You could find something from the public sector like NASA, or the private sector like bike companies. All can make cool projects. Do some digging here to find something cool!\n",
    "* If you want to try something local, check out the datasets maintained by the state of Nevada. There isn't a central portal, but you can try looking up data maintained by the Department of Health and Human Services, the Division of Minerals, the Office of Economic Development, and the Department of Transportation. These may be particularly interesting for geospatial datasets.\n",
    "\n",
    "After you have identified a dataset, think of what kind of questions you could answer with the data.\n",
    "\n",
    "## Bottom-up\n",
    "\n",
    "On the other end of the spectrum, maybe you know the kind of data analysis tools you would like to use, but you don't have a problem or dataset to use them on.\n",
    "\n",
    "You can start brainstorming project ideas by examining the API, tutorials, or gallery sections of the packages from class:\n",
    "* [matplotlib](https://matplotlib.org/stable/api/index)\n",
    "* [ipywidgets](https://ipywidgets.readthedocs.io/en/latest/)\n",
    "* [numpy](https://numpy.org/doc/2.2/reference/index.html)\n",
    "* [scipy](https://docs.scipy.org/doc//scipy/reference/index.html)\n",
    "* [pandas](https://pandas.pydata.org/pandas-docs/stable/reference/index.html)\n",
    "* [scikit-learn](https://scikit-learn.org/stable/api/index.html)\n",
    "\n",
    "Maybe you want to use a more sophisticated version of an algorithm in class, maybe you want to teach yourself a new function or tool. These can be a great way to ground your project. \n",
    "\n",
    "However you choose to start your project, whether with a problem, a dataset, or a tool, they can all be used to demonstrate your growth during the unit.\n",
    "\n",
    "**Please complete below:**\n",
    "\n",
    "Write provide a reflection (300+ words) about how you chose your project and how it developed."
   ]
  },
  {
   "cell_type": "code",
   "execution_count": null,
   "id": "6b1490eb",
   "metadata": {},
   "outputs": [],
   "source": []
  },
  {
   "cell_type": "markdown",
   "id": "5ad9d32d-c63f-416a-b390-af82ed9e0eab",
   "metadata": {},
   "source": [
    "# Develop\n",
    "\n",
    "Your final project will need to include the following components:\n",
    "\n",
    "* **Background and Motivation**. Before you show the audience any of your analysis, you need to appropriate set the stage. What is your problem important or interesting? What specific problem are you trying to solve? And is there any essential background that your audience will need to know? You will need to include sources as a part of this.\n",
    "* **Analysis and Discussion**. This is where you solve your selected problem using the programming tools from class. Please do **not** walk us through line by line of your code. There isn't enough time, and it is not an effective way to present a coding project. You will use Jupyter slides to help organize your project into bite-size pieces. You can and should skip code, highlighting only the important points that illustrate interesting functions or algorithms, dashboards, and plots. You should also try to break your large problem down into smaller stories, say three sub-problems.\n",
    "\n",
    "Create an outline of your project below. You can use the template provided to get you started:"
   ]
  },
  {
   "cell_type": "markdown",
   "id": "39ef8559",
   "metadata": {},
   "source": [
    "* **Introduction**: how do you solve for x?\n",
    "    - **The hook**: Demonstration of problem using physical objects or a widget\n",
    "    - **The problem**: State the problem and how we're going to solve it\n",
    "    - **Essential background**: key terms, concepts, functions the audience needs to know. Keep it brief!\n",
    "    - **Sources used**: Cite these as you introduce new information.\n",
    "    \n",
    "* **Subproblem 1**: \n",
    "    - Tools I will use to solve it, subsets of the data I will examine\n",
    "    - Key takeaways of analysis\n",
    "    \n",
    "* **Subproblem 2**: \n",
    "    - Tools I will use to solve it, subsets of the data I will examine\n",
    "    - Key takeaways of analysis\n"
   ]
  },
  {
   "cell_type": "markdown",
   "id": "b2d0fc4f-47ca-4a10-8540-26c3f1adf1c2",
   "metadata": {},
   "source": [
    "# Refine\n",
    "\n",
    "You are required to get feedback from a peer on your project. You may complete this during the in-class Sandbox sessions or outside of class on your own time. Please summarize the feedback from your peer here, as well as how you addressed the feedback.\n",
    "\n",
    "## Background and Motivation\n",
    "\n",
    "1. **Motivation**: Is the problem well motivated? Do I feel this is worth my time listening to, based on the first 30 seconds?\n",
    "2. **Background**: Is just enough information given to the audience to understand the presentation? Too much or too little? Is this information well organized and presented?\n",
    "3. **Problem-oriented**: Does the project seek to address a specific question or solve a specific problem? \n",
    "\n",
    "## Implementation\n",
    "\n",
    "1. **Correct**: Is the code technically correct? Are there errors, bugs, etc? This will require more than a superficial glance at the code. Walk through the code line by line and note any problems.\n",
    "2. **Annotated**: Does the code make good use of comments to help guide the interested reader?\n",
    "3. **On topic**: Does the project use tools from the current unit?\n",
    "4. **Complexity**: Is the project of adequte complexity? Does it go a step beyond what we did in class?\n",
    "\n",
    "## Presentation\n",
    "\n",
    "1. **Correct length**: Is the project too small or too big?\n",
    "2. **Takeaways**: Does the presentation include discussion of the results, rather than just letting the results stand on their own?\n",
    "3. **Aesthetics**: Does the project use good principles of design? Not too text-heavy, includes visuals, etc.\n"
   ]
  },
  {
   "cell_type": "code",
   "execution_count": null,
   "id": "5a48a109",
   "metadata": {},
   "outputs": [],
   "source": []
  },
  {
   "cell_type": "markdown",
   "id": "ac9f5000-9c64-4de6-a417-df38d57fce37",
   "metadata": {},
   "source": [
    "# Reflect\n",
    "\n",
    "Take some time to reflect on your presentation after it has been completed, as well as the presentations of your peers. Please address the following prompts in 300+ words each:\n",
    "\n",
    "1. How did your presentation go? What were it's strengths and weaknesses? What would you like to do better next time?"
   ]
  },
  {
   "cell_type": "code",
   "execution_count": null,
   "id": "542956f4-8968-42ed-a4f5-8d8e5596652d",
   "metadata": {},
   "outputs": [],
   "source": []
  },
  {
   "cell_type": "markdown",
   "id": "3ae72830",
   "metadata": {},
   "source": [
    "2. What questions did the audience ask and were you able to answer them? Based on audience questions, is there anything you would add or change about your presentation?"
   ]
  },
  {
   "cell_type": "code",
   "execution_count": null,
   "id": "52e3ef0b",
   "metadata": {},
   "outputs": [],
   "source": []
  },
  {
   "cell_type": "markdown",
   "id": "00956686",
   "metadata": {},
   "source": [
    "3. What were some highlights for you from presentations of your peers?"
   ]
  },
  {
   "cell_type": "code",
   "execution_count": null,
   "id": "2767caca",
   "metadata": {},
   "outputs": [],
   "source": []
  },
  {
   "cell_type": "markdown",
   "id": "55cc3fef",
   "metadata": {},
   "source": [
    "# AI Acknowledgement Statement\n",
    "\n",
    "Please indicate if and how you used ChatGPT or other LLMs on this assignment. Use the option that best fits your use case:\n",
    "\n",
    "* [ ] I did not use ChatGPT/LLMs.\n",
    "* [ ] I consulted ChatGPT/LLMs (to brainstorm, to debug, to get information, to give feedback), but I did not copy and paste or use text directly from ChatGPT/LLMs.\n",
    "* [ ] I copied and pasted portions of code directly from ChatGPT/LLMs.\n",
    "* [ ] I consulted other outside sources other than ChatGPT/LLMs.\n",
    "\n",
    "Please provide any and all links to ChatGPT/LLM conversations or other sources used in this assignment and describe how they were used:\n",
    "\n",
    "| Problem          | Link                                     | Description                                   |\n",
    "|------------------|------------------------------------------|-----------------------------------------------|\n",
    "| 1                | [Link Example](https://www.google.com/) | I used ChatGPT to help debug error messages. |\n",
    "| &nbsp;           | &nbsp;                                  | &nbsp;                                       |\n",
    "| &nbsp;           | &nbsp;                                  | &nbsp;                                       |\n",
    "| &nbsp;           | &nbsp;                                  | &nbsp;                                       |"
   ]
  },
  {
   "cell_type": "code",
   "execution_count": null,
   "id": "c4b31363",
   "metadata": {},
   "outputs": [],
   "source": []
  }
 ],
 "metadata": {
  "kernelspec": {
   "display_name": "Python 3 (ipykernel)",
   "language": "python",
   "name": "python3"
  },
  "language_info": {
   "codemirror_mode": {
    "name": "ipython",
    "version": 3
   },
   "file_extension": ".py",
   "mimetype": "text/x-python",
   "name": "python",
   "nbconvert_exporter": "python",
   "pygments_lexer": "ipython3",
   "version": "3.12.3"
  }
 },
 "nbformat": 4,
 "nbformat_minor": 5
}
