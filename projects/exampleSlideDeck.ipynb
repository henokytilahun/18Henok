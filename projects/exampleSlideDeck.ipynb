{
 "cells": [
  {
   "cell_type": "markdown",
   "id": "c008e57f-0f6e-4df9-92d5-fb6198ec79f2",
   "metadata": {
    "slideshow": {
     "slide_type": "slide"
    }
   },
   "source": [
    "# How to Use Jupyter Slides\n",
    "\n",
    "Jupyter Slides are a great way to combine text, images, and code into something presentable. Instead of opening a wall of code before a baffled audience, you can tailor it to show just the elements you want to, and combine it with traditional elements from a slide deck.\n",
    "\n",
    "<img src=\"pikachu.png\" alt=\"Alt text\" width=\"300\">"
   ]
  },
  {
   "cell_type": "markdown",
   "id": "87f7469d",
   "metadata": {
    "slideshow": {
     "slide_type": "slide"
    }
   },
   "source": [
    "# Subproblem 1:"
   ]
  },
  {
   "cell_type": "code",
   "execution_count": 1,
   "id": "d3b93c4e-d24e-48f8-85ea-2ca2eb083810",
   "metadata": {
    "slideshow": {
     "slide_type": "fragment"
    }
   },
   "outputs": [],
   "source": [
    "import numpy as np\n",
    "import matplotlib.pyplot as plt"
   ]
  },
  {
   "cell_type": "code",
   "execution_count": 2,
   "id": "65ca2492-1c42-4967-ba62-0cc5542081ce",
   "metadata": {
    "slideshow": {
     "slide_type": "fragment"
    }
   },
   "outputs": [
    {
     "data": {
      "text/plain": [
       "<matplotlib.collections.PathCollection at 0x255ae4977a0>"
      ]
     },
     "execution_count": 2,
     "metadata": {},
     "output_type": "execute_result"
    },
    {
     "data": {
      "image/png": "[encoded data removed]",
      "text/plain": [
       "<Figure size 640x480 with 1 Axes>"
      ]
     },
     "metadata": {},
     "output_type": "display_data"
    }
   ],
   "source": [
    "mydata = np.random.random(size=(60, 2))\n",
    "\n",
    "plt.scatter(mydata[:,0], mydata[:,1], s=70)"
   ]
  },
  {
   "cell_type": "markdown",
   "id": "11ee0b5b",
   "metadata": {
    "slideshow": {
     "slide_type": "slide"
    }
   },
   "source": [
    "# Subproblem 2:"
   ]
  },
  {
   "cell_type": "code",
   "execution_count": 3,
   "id": "f55495cb",
   "metadata": {
    "slideshow": {
     "slide_type": "fragment"
    }
   },
   "outputs": [],
   "source": [
    "from ipywidgets import interact, FloatSlider\n",
    "\n",
    "# Define the sine wave function\n",
    "def sine_wave_plot(frequency, amplitude, phase):\n",
    "    x = np.linspace(0, 2 * np.pi, 500)\n",
    "    y = amplitude * np.sin(frequency * x + phase)\n",
    "    \n",
    "    plt.figure(figsize=(8, 4))\n",
    "    plt.plot(x, y)\n",
    "    plt.title(\"Interactive Sine Wave\")\n",
    "    plt.xlabel(\"x\")\n",
    "    plt.ylabel(\"y\")\n",
    "    plt.axhline(0, color='black', linewidth=0.8, linestyle='--')\n",
    "    plt.axvline(0, color='black', linewidth=0.8, linestyle='--')\n",
    "    plt.grid()\n",
    "    plt.ylim(-4, 4)\n",
    "    plt.show()"
   ]
  },
  {
   "cell_type": "code",
   "execution_count": 4,
   "id": "64a713bb",
   "metadata": {
    "slideshow": {
     "slide_type": "subslide"
    }
   },
   "outputs": [
    {
     "data": {
      "application/vnd.jupyter.widget-view+json": {
       "model_id": "56aee7b41a1f47fa9ee445ee707ddc3e",
       "version_major": 2,
       "version_minor": 0
      },
      "text/plain": [
       "interactive(children=(FloatSlider(value=1.0, description='Frequency:', max=10.0, min=0.1), FloatSlider(value=1…"
      ]
     },
     "metadata": {},
     "output_type": "display_data"
    },
    {
     "data": {
      "text/plain": [
       "<function __main__.sine_wave_plot(frequency, amplitude, phase)>"
      ]
     },
     "execution_count": 4,
     "metadata": {},
     "output_type": "execute_result"
    }
   ],
   "source": [
    "# Create sliders for frequency, amplitude, and phase shift\n",
    "frequency_slider = FloatSlider(value=1.0, min=0.1, max=10.0, step=0.1, description='Frequency:')\n",
    "amplitude_slider = FloatSlider(value=1.0, min=0.1, max=5.0, step=0.1, description='Amplitude:')\n",
    "phase_slider = FloatSlider(value=0.0, min=0.0, max=2*np.pi, step=0.1, description='Phase:')\n",
    "\n",
    "# Use the interact function to connect sliders to the sine_wave_plot function\n",
    "interact(sine_wave_plot, frequency=frequency_slider, amplitude=amplitude_slider, phase=phase_slider)"
   ]
  },
  {
   "cell_type": "markdown",
   "id": "23144edb",
   "metadata": {
    "jupyter": {
     "source_hidden": true
    },
    "slideshow": {
     "slide_type": "slide"
    }
   },
   "source": [
    "Thank you!"
   ]
  }
 ],
 "metadata": {
  "celltoolbar": "Slideshow",
  "kernelspec": {
   "display_name": "Python 3 (ipykernel)",
   "language": "python",
   "name": "python3"
  },
  "language_info": {
   "codemirror_mode": {
    "name": "ipython",
    "version": 3
   },
   "file_extension": ".py",
   "mimetype": "text/x-python",
   "name": "python",
   "nbconvert_exporter": "python",
   "pygments_lexer": "ipython3",
   "version": "3.12.3"
  }
 },
 "nbformat": 4,
 "nbformat_minor": 5
}
